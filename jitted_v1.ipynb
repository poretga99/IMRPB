{
 "cells": [
  {
   "cell_type": "code",
   "execution_count": 1,
   "metadata": {
    "pycharm": {
     "is_executing": false
    }
   },
   "outputs": [],
   "source": [
    "import numpy as np\n",
    "import numba as nb\n",
    "import cupy as cy\n",
    "from numba import jit, njit, vectorize, prange, objmode\n",
    "import PIL.Image as im\n",
    "from matplotlib import pyplot as plt\n",
    "from fast_histogram import histogram2d\n",
    "from scipy.ndimage import gaussian_filter\n",
    "from scipy.interpolate import interpn\n",
    "\n",
    "\n",
    "@njit()\n",
    "def B0(u):\n",
    "    return (1.0 - u) ** 3.0 / 6.0\n",
    "\n",
    "\n",
    "@njit()\n",
    "def B1(u):\n",
    "    return (3.0 * u ** 3.0 - 6.0 * u ** 2.0 + 4.0) / 6.0\n",
    "\n",
    "\n",
    "@njit()\n",
    "def B2(u):\n",
    "    return (-3.0 * u ** 3.0 + 3.0 * u ** 2.0 + 3.0 * u + 1.0) / 6.0\n",
    "\n",
    "\n",
    "@njit()\n",
    "def B3(u):\n",
    "    return u ** 3.0 / 6.0\n",
    "\n",
    "\n",
    "@njit(parallel=True)\n",
    "def B(val, order=0):\n",
    "    o = np.zeros_like(val, dtype=np.float64)\n",
    "    if order == 0:\n",
    "        for i in prange(o.shape[0]):\n",
    "            for j in prange(o.shape[1]):\n",
    "                o[i, j] = B0(val[i, j])\n",
    "        return o\n",
    "    elif order == 1:\n",
    "        for i in prange(o.shape[0]):\n",
    "            for j in prange(o.shape[1]):\n",
    "                o[i, j] = B1(val[i, j])\n",
    "        return o\n",
    "    elif order == 2:\n",
    "        for i in prange(o.shape[0]):\n",
    "            for j in prange(o.shape[1]):\n",
    "                o[i, j] = B2(val[i, j])\n",
    "        return o\n",
    "    else:\n",
    "        for i in prange(o.shape[0]):\n",
    "            for j in prange(o.shape[1]):\n",
    "                o[i, j] = B3(val[i, j])\n",
    "        return o\n",
    "\n",
    "\n",
    "@njit(parallel=True)\n",
    "def indexing_arr(arr, dimY, dimX):\n",
    "    out = np.zeros_like(dimY)\n",
    "    for i in prange(dimY.shape[0]):\n",
    "        for j in prange(dimY.shape[1]):\n",
    "            out[i, j] = arr[dimY[i, j], dimX[i, j]]\n",
    "    return out\n",
    "\n",
    "\n",
    "@njit(parallel=True)\n",
    "def indexing_arr_mutate(arr, dimY, dimX):\n",
    "    out = np.zeros((dimY.size, 1), dtype=np.float64)\n",
    "    for i in prange(dimY.shape[0]):\n",
    "        out[i] = arr[dimY[i], dimX[i]]\n",
    "    return out\n",
    "\n",
    "\n",
    "@njit(parallel=True)\n",
    "def meshgrid(iX, iY):\n",
    "    oX = np.zeros((len(iY), len(iX)))\n",
    "    oY = np.zeros((len(iY), len(iX)))\n",
    "    for i in prange(len(iY)):\n",
    "        oX[i, :] = iX[:]\n",
    "    for j in prange(len(iX)):\n",
    "        oY[:, j] = iY[:]\n",
    "    return oX, oY\n",
    "\n",
    "\n",
    "@njit()\n",
    "def getCubicBSpline2DGrid(iImageSize, iStep):\n",
    "    dy, dx = iImageSize\n",
    "    a1 = np.arange(-iStep[0], (np.floor(dx / iStep[0] + 3) * iStep[0]), iStep[0])\n",
    "    a2 = np.arange(-iStep[1], (np.floor(dy / iStep[1] + 3) * iStep[1]), iStep[1])\n",
    "    tmpx, tmpy = meshgrid(a1, a2)\n",
    "    return tmpx, tmpy\n",
    "\n",
    "\n",
    "@njit()\n",
    "def generate_cromosomes(num, init_locx, init_locy, rng=2):\n",
    "    tmp = np.random.random((2, num, init_locx.shape[0], init_locx.shape[1])) * 2 * rng - rng\n",
    "    tmp[0, :, :, :] += init_locx\n",
    "    tmp[1, :, :, :] += init_locy\n",
    "    return tmp\n",
    "\n",
    "\n",
    "@njit(parallel=True)\n",
    "def interpolate2d(iImage, iY, iX):\n",
    "    '''\n",
    "    :param iImage:\n",
    "    :param iY: meshgrid od Y\n",
    "    :param iX: meshgrid od X\n",
    "    :return:\n",
    "    '''\n",
    "    out = np.zeros(iY.shape)\n",
    "    start_row = 0\n",
    "    end_row = 0\n",
    "    start_col = 0\n",
    "    end_col = 0\n",
    "    for i in prange(len(iY[:, 1])):\n",
    "        for j in prange(len(iX[:, 1])):\n",
    "            if iY[i, i] % 1 == 0:\n",
    "                start_row = int(iY[i, j])\n",
    "                end_row = int(iY[i, j]) + 1\n",
    "            else:\n",
    "                start_row = int(np.floor(iY[i, j]))\n",
    "                end_row = int(np.ceil(iY[i, j]))\n",
    "            if iX[i, j] % 1 == 0:\n",
    "                start_col = int(iX[i, j])\n",
    "                end_col = int(iX[i, j]) + 1\n",
    "            else:\n",
    "                start_col = int(np.floor(iX[i, j]))\n",
    "                end_col = int(np.ceil(iX[i, j]))\n",
    "            if iImage[start_row:end_row + 1, start_col:end_col + 1].size == 0:\n",
    "                out[i, j] = 0.0\n",
    "            else:\n",
    "                out[i, j] = np.mean(iImage[start_row:end_row + 1, start_col:end_col + 1])\n",
    "    return out\n",
    "\n",
    "\n",
    "@njit()\n",
    "def getCubicBSpline2DDeformation(iImageSize, iCPx, iCPy, iStep):\n",
    "    dy, dx = iImageSize\n",
    "    gx, gy = meshgrid(np.arange(dx), np.arange(dy))\n",
    "    oGx, oGy = np.zeros_like(gx), np.zeros_like(gy)\n",
    "    for l in (0, 1, 2, 3):\n",
    "        for m in (0, 1, 2, 3):\n",
    "            tmpi = np.floor(gx / iStep[0])\n",
    "            tmpj = np.floor(gy / iStep[1])\n",
    "            i = np.asarray(tmpi, dtype=np.int64)\n",
    "            j = np.asarray(tmpj, dtype=np.int64)\n",
    "            u = gx / iStep[0] - i\n",
    "            v = gy / iStep[1] - j\n",
    "            oGx += B(u, order=l) * B(v, order=m) * indexing_arr(iCPx, j + m, i + l)\n",
    "            oGy += B(u, order=l) * B(v, order=m) * indexing_arr(iCPy, j + m, i + l)\n",
    "    return oGx, oGy\n",
    "\n",
    "'''\n",
    "@njit()\n",
    "def deformImageBSpline2D(iImage, iCPx, iCPy, iStep):\n",
    "    dy, dx = iImage.shape\n",
    "    oGx, oGy = getCubicBSpline2DDeformation(iImage.shape, iCPx, iCPy, iStep)\n",
    "    gx, gy = meshgrid(np.arange(dx), np.arange(dy))\n",
    "    oGx = 2 * gx - oGx  # inverz preslikave\n",
    "    oGy = 2 * gy - oGy  # inverz preslikave\n",
    "    oImage = interpolate2d(iImage, oGy, oGx)\n",
    "    return oImage\n",
    "'''\n",
    "@njit()\n",
    "def deformImageBSpline2D(iImage, iCPx, iCPy, iStep):\n",
    "    dy, dx = iImage.shape\n",
    "    oGx, oGy = getCubicBSpline2DDeformation(iImage.shape, iCPx, iCPy, iStep)\n",
    "    gx, gy = meshgrid(np.arange(dx), np.arange(dy))\n",
    "    oGx = 2 * gx - oGx  # inverz preslikave\n",
    "    oGy = 2 * gy - oGy  # inverz preslikave\n",
    "    with objmode(oImage='f8[:,::1]'):\n",
    "        oImage = interpn((np.arange(dy), np.arange(dx)), iImage.astype('float'), np.dstack((oGy, oGx)), method='linear', bounds_error=False, fill_value=0)\n",
    "    return oImage\n",
    "\n",
    "\n",
    "@njit()\n",
    "def mi(ima, imb, b=32):\n",
    "    hist_2d = np.zeros((32, 32), dtype=np.float64)\n",
    "    with objmode(hist_2d='f8[:,::1]'):\n",
    "        hist_2d = histogram2d(ima, imb, b, [[0, 255], [0, 255]])\n",
    "\n",
    "    pxy = hist_2d / float(np.sum(hist_2d))\n",
    "    px = np.sum(pxy, axis=1)\n",
    "    py = np.sum(pxy, axis=0)\n",
    "    px_py = px.reshape(b, 1) * py.reshape(1, b)\n",
    "    nzs = pxy > 0\n",
    "    tmp_nzs = np.ones((32, 32), dtype=np.int64)\n",
    "    tmp_nzs = nzs.ravel()\n",
    "\n",
    "    tmp_pxy = np.ones((32, 1), dtype=np.bool_)\n",
    "    tmp_pxy = pxy.ravel()\n",
    "\n",
    "    tmp_pxpy = np.ones((32 * 32, 1), dtype=np.bool_)\n",
    "    tmp_pxpy = px_py.ravel()\n",
    "\n",
    "    return np.sum(tmp_pxy[tmp_nzs] * np.log(tmp_pxy[tmp_nzs] / tmp_pxpy[tmp_nzs]))\n",
    "\n",
    "\n",
    "@njit()\n",
    "def deform_ims(fixed_im, floating_im, cromosomes, iStep):\n",
    "    fixed_im = np.asarray(fixed_im, dtype=np.float64)\n",
    "    floating_im = np.asarray(floating_im, dtype=np.float64)\n",
    "    deformed_ims = np.zeros((cromosomes.shape[1], fixed_im.shape[0], fixed_im.shape[1]), dtype=np.float64)\n",
    "    for i in range(cromosomes.shape[1]):\n",
    "        cromoX = cromosomes[0, i, :, :]\n",
    "        cromoY = cromosomes[1, i, :, :]\n",
    "        deformed_ims[i, :, :] = deformImageBSpline2D(floating_im, cromoX, cromoY, iStep)\n",
    "    return deformed_ims\n",
    "\n",
    "\n",
    "@njit(parallel=True)\n",
    "def fitness(fixed, images):\n",
    "    fit = np.zeros(images.shape[0], dtype=np.float64)\n",
    "    for i in prange(images.shape[0]):\n",
    "        fit[i] = 1.0 / mi(fixed, images[i, :, :])\n",
    "    return fit\n",
    "\n",
    "\n",
    "@njit(parallel=True)\n",
    "def filter_ims(fixed, images):\n",
    "    filtered = np.zeros((images.shape[0], images.shape[1], images.shape[2]), dtype=np.float64)\n",
    "    for i in range(images.shape[0]):\n",
    "        razlika = np.abs(fixed - images[i, :, :])\n",
    "        filt = np.array((razlika.shape[0], razlika.shape[1]), dtype=np.float64)\n",
    "        with objmode(filt='f8[:,::1]'):\n",
    "            filt = gaussian_filter(razlika, 20)\n",
    "        filt = (filt - np.min(filt)) / (np.max(filt) - np.min(filt))\n",
    "        filtered[i, :, :] = filt\n",
    "    return filtered\n",
    "\n",
    "@njit()\n",
    "def generate_points(iCPx, iCPy):\n",
    "    '''\n",
    "    Generacija matrike tock preko matrik kontrolnih tock, za lazje racunanje z ostalimi funkcijami.\n",
    "    :param iCPx: matrika x kontrolnih tock\n",
    "    :param iCPy: matrika y kontrolnih tock\n",
    "    :return: matrika tock dimenzije [stevilo tock, 2]\n",
    "    '''\n",
    "    tCPx = iCPx[1:-2, 1:-2].flatten()\n",
    "    tCPy = iCPy[1:-2, 1:-2].flatten()\n",
    "    src = np.zeros((tCPx.size, 2), dtype=np.uint8)\n",
    "    src[:,0] = tCPx\n",
    "    src[:,1] = tCPy\n",
    "    return src\n",
    "\n",
    "\n",
    "@njit(parallel=True)\n",
    "def modify_filtered_vals(vals):\n",
    "    tmp = np.zeros((vals.shape[0], vals.shape[1]), dtype=np.float64)\n",
    "    for i in prange(1, vals.shape[0]-1):\n",
    "        for j in prange(1, vals.shape[1]-1):\n",
    "            if np.abs(vals[i, j] - np.max(vals[i-1:i+2, j-1:j+2]))>0.5:\n",
    "                tmp[i, j] = np.mean(vals[i-1:i+2, j-1:j+2])\n",
    "                #tmp[i, j] = np.max(vals[i - 1:i + 2, j - 1:j + 2]) / 2.0\n",
    "            else:\n",
    "                tmp[i, j] = vals[i, j]\n",
    "    return tmp\n",
    "\n",
    "\n",
    "\n",
    "@njit()\n",
    "def get_filtered_vals(cromosomes, im_filtered, filter_pts):\n",
    "    tmp = np.zeros((cromosomes.shape[2], cromosomes.shape[3]), dtype=np.float64)\n",
    "    im_indexed = indexing_arr_mutate(im_filtered, filter_pts[:, 0], filter_pts[:, 1])\n",
    "    tmp_vals = im_indexed.reshape((cromosomes.shape[2]-3, cromosomes.shape[3]-3)).transpose()\n",
    "    tmp_vals = (tmp_vals - tmp_vals.min())/(tmp_vals.max()-tmp_vals.min())*0.8+0.2\n",
    "    tmp[1:-2, 1:-2] = tmp_vals\n",
    "    tmp = modify_filtered_vals(tmp)\n",
    "    return tmp\n",
    "\n",
    "\n",
    "@njit(parallel=True)\n",
    "def mutate(dst_points, rng, filt_pts, filtered):\n",
    "    mutation = np.random.random((2, dst_points.shape[1], dst_points.shape[2], dst_points.shape[3]))*2*rng - rng\n",
    "    for i in range(dst_points.shape[1]):\n",
    "        mutation[0, i, :, :] = np.multiply(mutation[0, i, :, :], 2*get_filtered_vals(cromosomes, filtered[i], filt_pts))\n",
    "        mutation[1, i, :, :] = np.multiply(mutation[1, i, :, :], 2*get_filtered_vals(cromosomes, filtered[i], filt_pts))\n",
    "    mutation_locations = np.random.randint(0, 2, (2, dst_points.shape[1], dst_points.shape[2], dst_points.shape[3]))\n",
    "    return dst_points + mutation*mutation_locations\n",
    "\n",
    "\n",
    "@njit()\n",
    "def select_mating(population, fit, num_parents, deformed):\n",
    "    # indeksi najmanjsih elementov kritejrijske funkcije\n",
    "    min_idxs = np.abs(fit).argsort()[:num_parents]\n",
    "    filtered = filter_ims(fixed, def_ims[min_idxs.reshape(min_idxs.shape[0]), :, :])\n",
    "    # vrnemo x najboljse primerke za starse\n",
    "    return population[:, min_idxs, :, :].reshape(2, num_parents, population.shape[2], population.shape[3]), fit[min_idxs].reshape(num_parents, 1), deformed[min_idxs.reshape(min_idxs.shape[0]), :, :], filtered, min_idxs\n",
    "\n",
    "\n",
    "@njit(parallel=True)\n",
    "def generate_pairs(noOfChildren, noOfParents):\n",
    "    pairs = np.zeros((noOfChildren, 2), dtype=np.uint8)\n",
    "    for i in prange(noOfChildren):\n",
    "        id1 = 0\n",
    "        id2 = 0\n",
    "        while id1 == id2:\n",
    "            id1 = int(np.random.random()*noOfParents)\n",
    "            id2 = int(np.random.random()*noOfParents)\n",
    "        pairs[i, 0] = id1\n",
    "        pairs[i, 1] = id2\n",
    "    return pairs\n",
    "\n",
    "\n",
    "@njit(parallel=True)\n",
    "def crossover(parents, noOfChildren, noOfParents):\n",
    "    children = np.zeros((2, noOfChildren, parents.shape[2], parents.shape[3]), dtype=np.float64)\n",
    "    swap_ids = np.random.randint(0, 1, (parents.shape[1], parents.shape[2], parents.shape[3]))\n",
    "    pairs = generate_pairs(noOfChildren, noOfParents)\n",
    "    for i in prange(noOfChildren):\n",
    "        children[0, i, :, :] = parents[0, pairs[i, 0], :, :] * swap_ids[pairs[i, 0], :, :] + (\n",
    "                    parents[0, pairs[i, 1], :, :] * (1 - swap_ids[pairs[i, 1], :, :]))\n",
    "        children[1, i, :, :] = parents[1, pairs[i, 0], :, :] * swap_ids[pairs[i, 0], :, :] + (\n",
    "                    parents[1, pairs[i, 1], :, :] * (1 - swap_ids[pairs[i, 1], :, :]))\n",
    "    return children\n",
    "\n",
    "\n",
    "@njit()\n",
    "def find_best(cromosomes, fitness, deformed):\n",
    "    fmin = fitness.min()\n",
    "    idx = np.where(fitness == fmin)[0][0]\n",
    "    T_optx = cromosomes[0, idx, :, :]\n",
    "    T_opty = cromosomes[1, idx, :, :]\n",
    "    def_opt = deformed[idx, :, :]\n",
    "    return fmin, T_opty, T_optx, def_opt"
   ]
  },
  {
   "cell_type": "code",
   "execution_count": 2,
   "metadata": {
    "pycharm": {
     "is_executing": false
    }
   },
   "outputs": [],
   "source": [
    "noCromo = 10\n",
    "noParents = 5\n",
    "noChildren = 5\n",
    "\n",
    "fixed = np.array(im.open('mr1.png'))\n",
    "moving = np.array(im.open('mr7.png'))\n",
    "fixed = np.asarray(fixed, dtype=np.float)\n",
    "moving = np.asarray(moving, dtype=np.float)\n",
    "height, width = fixed.shape\n",
    "iStep = (((fixed.shape[0]-1)/5), ((fixed.shape[1]-1)/5))\n",
    "oCPx, oCPy = getCubicBSpline2DGrid(fixed.shape, iStep)\n",
    "source_pts = generate_points(oCPx, oCPy)\n",
    "cromosomes = generate_cromosomes(noCromo, oCPx, oCPy, rng=2)"
   ]
  },
  {
   "cell_type": "code",
   "execution_count": 3,
   "metadata": {
    "pycharm": {
     "is_executing": false
    }
   },
   "outputs": [],
   "source": [
    "def_ims = deform_ims(fixed, moving, cromosomes, iStep)"
   ]
  },
  {
   "cell_type": "code",
   "execution_count": 4,
   "metadata": {
    "pycharm": {
     "is_executing": false
    }
   },
   "outputs": [
    {
     "name": "stdout",
     "output_type": "stream",
     "text": [
      "316 ms ± 16.8 ms per loop (mean ± std. dev. of 10 runs, 1 loop each)\n"
     ]
    }
   ],
   "source": [
    "%%timeit -r 10\n",
    "# 1st step of genetic alg\n",
    "def_ims = deform_ims(fixed, moving, cromosomes, iStep)\n",
    "fit = fitness(fixed, def_ims)\n",
    "fmin, T_opty, T_optx, def_opt = find_best(cromosomes, fit, def_ims)\n",
    "parents, par_fit, par_def, par_filt, par_idxs = select_mating(cromosomes, fit, noParents, def_ims)\n",
    "children = crossover(parents, noChildren, noParents)\n",
    "parents = mutate(parents, 2, source_pts, par_filt)\n",
    "cromosomes[:,0:noParents,:,:] = parents\n",
    "cromosomes[:,noParents:,:,:] = children"
   ]
  },
  {
   "cell_type": "code",
   "execution_count": 5,
   "metadata": {
    "pycharm": {
     "is_executing": false
    }
   },
   "outputs": [
    {
     "name": "stdout",
     "output_type": "stream",
     "text": [
      "305 ms ± 13.5 ms per loop (mean ± std. dev. of 10 runs, 1 loop each)\n",
      "768 µs ± 18 µs per loop (mean ± std. dev. of 10 runs, 1000 loops each)\n",
      "54.3 ms ± 1.38 ms per loop (mean ± std. dev. of 10 runs, 1 loop each)\n"
     ]
    }
   ],
   "source": [
    "%timeit -r 10 def_ims = deform_ims(fixed, moving, cromosomes, iStep)\n",
    "%timeit -r 10 fit = fitness(fixed, def_ims)\n",
    "%timeit -r 10 filtered = filter_ims(fixed, def_ims)"
   ]
  },
  {
   "cell_type": "code",
   "execution_count": 6,
   "metadata": {
    "pycharm": {
     "is_executing": false
    }
   },
   "outputs": [],
   "source": [
    "def_ims = deform_ims(fixed, moving, cromosomes, iStep)\n",
    "fit = fitness(fixed, def_ims)\n",
    "fmin, T_opty, T_optx, def_opt = find_best(cromosomes, fit, def_ims)\n",
    "parents, par_fit, par_def, par_filt, par_idxs = select_mating(cromosomes, fit, noParents, def_ims)\n",
    "children = crossover(parents, noChildren, noParents)\n",
    "parents = mutate(parents, 2, source_pts, par_filt)\n"
   ]
  },
  {
   "cell_type": "code",
   "execution_count": 14,
   "metadata": {
    "pycharm": {
     "is_executing": false
    }
   },
   "outputs": [
    {
     "name": "stdout",
     "output_type": "stream",
     "text": [
      "272 ms ± 10.1 ms per loop (mean ± std. dev. of 10 runs, 1 loop each)\n",
      "744 µs ± 2.77 µs per loop (mean ± std. dev. of 10 runs, 1000 loops each)\n",
      "1.74 µs ± 25 ns per loop (mean ± std. dev. of 10 runs, 1000000 loops each)\n",
      "27.7 ms ± 297 µs per loop (mean ± std. dev. of 10 runs, 10 loops each)\n",
      "231 µs ± 2.42 µs per loop (mean ± std. dev. of 10 runs, 1000 loops each)\n",
      "2.36 ms ± 16.5 µs per loop (mean ± std. dev. of 10 runs, 100 loops each)\n"
     ]
    }
   ],
   "source": [
    "%timeit -r 10 def_ims = deform_ims(fixed, moving, cromosomes, iStep)\n",
    "%timeit -r 10 fit = fitness(fixed, def_ims)\n",
    "%timeit -r 10 fmin, T_opty, T_optx, def_opt = find_best(cromosomes, fit, def_ims)\n",
    "%timeit -r 10 parents, par_fit, par_def, par_filt, par_idxs = select_mating(cromosomes, fit, noParents, def_ims)\n",
    "%timeit -r 10 children = crossover(parents, noChildren, noParents)\n",
    "%timeit -r 10 parents2 = mutate(parents, 2, source_pts, par_filt)\n"
   ]
  },
  {
   "cell_type": "code",
   "execution_count": 11,
   "metadata": {
    "pycharm": {
     "is_executing": false
    }
   },
   "outputs": [],
   "source": [
    "parents = mutate(parents, 2, source_pts, par_filt)\n",
    "#%timeit -r 10 children = crossover(parents, noChildren, noParents)"
   ]
  },
  {
   "cell_type": "code",
   "execution_count": 13,
   "metadata": {
    "pycharm": {
     "is_executing": false
    }
   },
   "outputs": [
    {
     "name": "stdout",
     "output_type": "stream",
     "text": [
      "2.4 ms ± 41.5 µs per loop (mean ± std. dev. of 10 runs, 100 loops each)\n"
     ]
    }
   ],
   "source": [
    "%timeit -r 10 parents2 = mutate(parents, 2, source_pts, par_filt)"
   ]
  },
  {
   "cell_type": "code",
   "execution_count": null,
   "metadata": {
    "pycharm": {
     "is_executing": false
    }
   },
   "outputs": [],
   "source": []
  },
  {
   "cell_type": "code",
   "execution_count": null,
   "metadata": {
    "pycharm": {
     "is_executing": false
    }
   },
   "outputs": [],
   "source": []
  }
 ],
 "metadata": {
  "kernelspec": {
   "display_name": "Python 3",
   "language": "python",
   "name": "python3"
  },
  "language_info": {
   "codemirror_mode": {
    "name": "ipython",
    "version": 3
   },
   "file_extension": ".py",
   "mimetype": "text/x-python",
   "name": "python",
   "nbconvert_exporter": "python",
   "pygments_lexer": "ipython3",
   "version": "3.7.4"
  },
  "pycharm": {
   "stem_cell": {
    "cell_type": "raw",
    "metadata": {
     "collapsed": false
    },
    "source": []
   }
  }
 },
 "nbformat": 4,
 "nbformat_minor": 2
}
